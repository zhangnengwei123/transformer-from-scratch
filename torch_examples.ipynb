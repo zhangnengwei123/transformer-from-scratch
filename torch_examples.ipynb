{
 "cells": [
  {
   "cell_type": "code",
   "execution_count": 3,
   "id": "0bcfea75-8f49-4e91-b968-543fe75aa4f5",
   "metadata": {},
   "outputs": [
    {
     "data": {
      "text/plain": [
       "tensor([ 74,  18, -82, -40, -37,  41])"
      ]
     },
     "execution_count": 3,
     "metadata": {},
     "output_type": "execute_result"
    }
   ],
   "source": [
    "import torch\n",
    "\n",
    "randint = torch.randint(-100, 100, (6,))"
   ]
  },
  {
   "cell_type": "code",
   "execution_count": 4,
   "id": "acb82cb7-2549-4db4-8c66-47f5ca8fc44c",
   "metadata": {},
   "outputs": [
    {
     "data": {
      "text/plain": [
       "tensor([ 74,  18, -82, -40, -37,  41])"
      ]
     },
     "execution_count": 4,
     "metadata": {},
     "output_type": "execute_result"
    }
   ],
   "source": [
    "randint"
   ]
  },
  {
   "cell_type": "code",
   "execution_count": 5,
   "id": "df5a06e2-5d0a-45de-ba9b-66637ae4aa63",
   "metadata": {},
   "outputs": [
    {
     "data": {
      "text/plain": [
       "torch.Size([6])"
      ]
     },
     "execution_count": 5,
     "metadata": {},
     "output_type": "execute_result"
    }
   ],
   "source": [
    "randint.shape"
   ]
  },
  {
   "cell_type": "code",
   "execution_count": 6,
   "id": "c658157b-ca1c-4834-93a2-38b94d6c8144",
   "metadata": {},
   "outputs": [
    {
     "data": {
      "text/plain": [
       "tensor([[0.1000, 1.2000],\n",
       "        [2.2000, 2.1000],\n",
       "        [3.1000, 3.3000]])"
      ]
     },
     "execution_count": 6,
     "metadata": {},
     "output_type": "execute_result"
    }
   ],
   "source": [
    "tensor = torch.tensor([[0.1,1.2],[2.2,2.1],[3.1,3.3]])\n",
    "tensor"
   ]
  },
  {
   "cell_type": "code",
   "execution_count": 7,
   "id": "29e0bb39-af4e-4610-8ec5-576411822f3f",
   "metadata": {},
   "outputs": [
    {
     "data": {
      "text/plain": [
       "tensor([[0., 0., 0.],\n",
       "        [0., 0., 0.]])"
      ]
     },
     "execution_count": 7,
     "metadata": {},
     "output_type": "execute_result"
    }
   ],
   "source": [
    "zeros = torch.zeros(2,3)\n",
    "zeros"
   ]
  },
  {
   "cell_type": "code",
   "execution_count": 8,
   "id": "b137a13a-5483-4926-a3bc-5f5b76fd2e46",
   "metadata": {},
   "outputs": [
    {
     "data": {
      "text/plain": [
       "torch.Size([2, 3])"
      ]
     },
     "execution_count": 8,
     "metadata": {},
     "output_type": "execute_result"
    }
   ],
   "source": [
    "zeros.shape"
   ]
  },
  {
   "cell_type": "code",
   "execution_count": 9,
   "id": "1ac1f2f5-4a34-4aff-896a-f1d72c9f84c4",
   "metadata": {},
   "outputs": [
    {
     "data": {
      "text/plain": [
       "tensor([[1., 1., 1., 1.],\n",
       "        [1., 1., 1., 1.],\n",
       "        [1., 1., 1., 1.]])"
      ]
     },
     "execution_count": 9,
     "metadata": {},
     "output_type": "execute_result"
    }
   ],
   "source": [
    "ones = torch.ones(3,4)\n",
    "ones"
   ]
  },
  {
   "cell_type": "code",
   "execution_count": 10,
   "id": "c3b264b0-5fe8-40e3-b4d1-02a114b252db",
   "metadata": {},
   "outputs": [],
   "source": [
    "input = torch.empty(2,3)"
   ]
  },
  {
   "cell_type": "code",
   "execution_count": 11,
   "id": "b072f046-628b-47cf-99c4-0f4ae94813d5",
   "metadata": {},
   "outputs": [
    {
     "data": {
      "text/plain": [
       "tensor([[0., 0., 0.],\n",
       "        [0., 0., 0.]])"
      ]
     },
     "execution_count": 11,
     "metadata": {},
     "output_type": "execute_result"
    }
   ],
   "source": [
    "input"
   ]
  },
  {
   "cell_type": "code",
   "execution_count": 12,
   "id": "550faad2-aef4-4f3a-8ee7-7bc6f8c7cbce",
   "metadata": {},
   "outputs": [
    {
     "data": {
      "text/plain": [
       "tensor([0, 1, 2, 3, 4])"
      ]
     },
     "execution_count": 12,
     "metadata": {},
     "output_type": "execute_result"
    }
   ],
   "source": [
    "arange = torch.arange(5)\n",
    "arange"
   ]
  },
  {
   "cell_type": "code",
   "execution_count": 14,
   "id": "9daa5f04-7010-4ea6-b111-4d7b4efeed4e",
   "metadata": {},
   "outputs": [
    {
     "data": {
      "text/plain": [
       "tensor([ 3.0000,  4.7500,  6.5000,  8.2500, 10.0000])"
      ]
     },
     "execution_count": 14,
     "metadata": {},
     "output_type": "execute_result"
    }
   ],
   "source": [
    "linspace = torch.linspace(3,10,steps=5)\n",
    "linspace"
   ]
  },
  {
   "cell_type": "code",
   "execution_count": 17,
   "id": "1e408f9e-1e18-423b-af9e-b36c161d381c",
   "metadata": {},
   "outputs": [],
   "source": [
    "logspace = torch.logspace(start=-10,end = 10,steps=5)"
   ]
  },
  {
   "cell_type": "code",
   "execution_count": 18,
   "id": "d6daf8f0-6b6a-4457-9efd-ac00a856c118",
   "metadata": {},
   "outputs": [
    {
     "data": {
      "text/plain": [
       "tensor([1.0000e-10, 1.0000e-05, 1.0000e+00, 1.0000e+05, 1.0000e+10])"
      ]
     },
     "execution_count": 18,
     "metadata": {},
     "output_type": "execute_result"
    }
   ],
   "source": [
    "logspace"
   ]
  },
  {
   "cell_type": "code",
   "execution_count": 19,
   "id": "2214293a-c685-4e46-a356-a4162926c90c",
   "metadata": {},
   "outputs": [
    {
     "data": {
      "text/plain": [
       "tensor([[1., 0., 0., 0., 0.],\n",
       "        [0., 1., 0., 0., 0.],\n",
       "        [0., 0., 1., 0., 0.],\n",
       "        [0., 0., 0., 1., 0.],\n",
       "        [0., 0., 0., 0., 1.]])"
      ]
     },
     "execution_count": 19,
     "metadata": {},
     "output_type": "execute_result"
    }
   ],
   "source": [
    "eye = torch.eye(5)\n",
    "eye"
   ]
  },
  {
   "cell_type": "code",
   "execution_count": 20,
   "id": "0335ba78-a245-46f7-990d-a0ae9a0cbd4c",
   "metadata": {},
   "outputs": [
    {
     "data": {
      "text/plain": [
       "tensor([[0, 0, 0],\n",
       "        [0, 0, 0]])"
      ]
     },
     "execution_count": 20,
     "metadata": {},
     "output_type": "execute_result"
    }
   ],
   "source": [
    "a = torch.empty((2,3),dtype=torch.int64)\n",
    "empty_like = torch.empty_like(a)\n",
    "empty_like"
   ]
  },
  {
   "cell_type": "code",
   "execution_count": 21,
   "id": "17a0fc08-e733-4cb6-9fa2-76f1fd08f187",
   "metadata": {},
   "outputs": [
    {
     "name": "stdout",
     "output_type": "stream",
     "text": [
      "cpu\n"
     ]
    }
   ],
   "source": [
    "import torch\n",
    "import numpy as np\n",
    "import time \n",
    "device = 'cuda' if torch.cuda.is_available() else 'cpu'\n",
    "print(device)"
   ]
  },
  {
   "cell_type": "code",
   "execution_count": 25,
   "id": "063ecfe7-4c65-47f2-9d2b-bd6d8cf7e474",
   "metadata": {},
   "outputs": [
    {
     "name": "stdout",
     "output_type": "stream",
     "text": [
      "0.0013\n",
      "CPU times: user 1.02 ms, sys: 1.32 ms, total: 2.34 ms\n",
      "Wall time: 1.79 ms\n"
     ]
    }
   ],
   "source": [
    "%%time\n",
    "start_time = time.time()\n",
    "zeros = torch.zeros(1,1)\n",
    "end_time = time.time()\n",
    "\n",
    "elapsed_time = end_time - start_time\n",
    "print(f\"{elapsed_time:.4f}\")"
   ]
  },
  {
   "cell_type": "code",
   "execution_count": 28,
   "id": "4a77ae8f-9e8f-41dc-8604-42fc03902371",
   "metadata": {},
   "outputs": [
    {
     "name": "stdout",
     "output_type": "stream",
     "text": [
      "tensor([1, 1, 1, 1, 1, 1, 0, 1, 1, 1])\n"
     ]
    }
   ],
   "source": [
    "# define a probability tensor\n",
    "probabilities = torch.tensor([0.1,0.9])\n",
    "\n",
    "samples = torch.multinomial(probabilities,num_samples=10,replacement=True)\n",
    "print(samples)"
   ]
  },
  {
   "cell_type": "code",
   "execution_count": 29,
   "id": "1ee4773b-459d-4382-8722-2f5c5aa0bf52",
   "metadata": {},
   "outputs": [
    {
     "name": "stdout",
     "output_type": "stream",
     "text": [
      "tensor([1, 2, 3, 4, 5])\n"
     ]
    }
   ],
   "source": [
    "\n",
    "tensor = torch.tensor([1,2,3,4])\n",
    "out = torch.cat((tensor,torch.tensor([5])),dim=0)\n",
    "print(out)"
   ]
  },
  {
   "cell_type": "code",
   "execution_count": 30,
   "id": "b20f4a67-f125-4990-85f1-4a3c41a8b58b",
   "metadata": {},
   "outputs": [
    {
     "data": {
      "text/plain": [
       "tensor([[1., 0., 0., 0., 0.],\n",
       "        [1., 1., 0., 0., 0.],\n",
       "        [1., 1., 1., 0., 0.],\n",
       "        [1., 1., 1., 1., 0.],\n",
       "        [1., 1., 1., 1., 1.]])"
      ]
     },
     "execution_count": 30,
     "metadata": {},
     "output_type": "execute_result"
    }
   ],
   "source": [
    "out = torch.tril(torch.ones(5,5))\n",
    "out"
   ]
  },
  {
   "cell_type": "code",
   "execution_count": 31,
   "id": "57c0125d-7562-4bdf-81c0-2dbaf51f2805",
   "metadata": {},
   "outputs": [
    {
     "name": "stdout",
     "output_type": "stream",
     "text": [
      "tensor([[1., 1., 1., 1., 1.],\n",
      "        [0., 1., 1., 1., 1.],\n",
      "        [0., 0., 1., 1., 1.],\n",
      "        [0., 0., 0., 1., 1.],\n",
      "        [0., 0., 0., 0., 1.]])\n"
     ]
    }
   ],
   "source": [
    "out = torch.triu(torch.ones(5,5))\n",
    "print(out)"
   ]
  },
  {
   "cell_type": "code",
   "execution_count": 32,
   "id": "45daefac-c812-4618-b9f1-8acfd06e09d4",
   "metadata": {},
   "outputs": [
    {
     "name": "stdout",
     "output_type": "stream",
     "text": [
      "tensor([[0., -inf, -inf, -inf, -inf],\n",
      "        [0., 0., -inf, -inf, -inf],\n",
      "        [0., 0., 0., -inf, -inf],\n",
      "        [0., 0., 0., 0., -inf],\n",
      "        [0., 0., 0., 0., 0.]])\n"
     ]
    }
   ],
   "source": [
    "out = torch.zeros(5,5).masked_fill(torch.tril(torch.ones(5,5))==0,float('-inf'))\n",
    "print(out)"
   ]
  },
  {
   "cell_type": "code",
   "execution_count": 33,
   "id": "cc810ea4-7eac-4775-954d-d4d5505dbb64",
   "metadata": {},
   "outputs": [
    {
     "data": {
      "text/plain": [
       "tensor([[1., 0., 0., 0., 0.],\n",
       "        [1., 1., 0., 0., 0.],\n",
       "        [1., 1., 1., 0., 0.],\n",
       "        [1., 1., 1., 1., 0.],\n",
       "        [1., 1., 1., 1., 1.]])"
      ]
     },
     "execution_count": 33,
     "metadata": {},
     "output_type": "execute_result"
    }
   ],
   "source": [
    "torch.exp(out)"
   ]
  },
  {
   "cell_type": "code",
   "execution_count": 42,
   "id": "5c017472-8043-4bfc-841b-e9a3250b58a7",
   "metadata": {},
   "outputs": [
    {
     "name": "stdout",
     "output_type": "stream",
     "text": [
      "tensor([[[0., 0., 0.],\n",
      "         [0., 0., 0.],\n",
      "         [0., 0., 0.],\n",
      "         [0., 0., 0.]],\n",
      "\n",
      "        [[0., 0., 0.],\n",
      "         [0., 0., 0.],\n",
      "         [0., 0., 0.],\n",
      "         [0., 0., 0.]]])\n"
     ]
    }
   ],
   "source": [
    "input = torch.zeros(2, 3, 4)\n",
    "\n",
    "out = input.transpose(1, 2)\n",
    "print(out)"
   ]
  },
  {
   "cell_type": "code",
   "execution_count": 55,
   "id": "d16cdced-30c6-46f9-93c3-6fbd2ae9c5a1",
   "metadata": {},
   "outputs": [],
   "source": [
    "B = torch.tensor([[[1, 2, 3, 4], [5, 6, 7, 8], [9, 10, 11, 12]],\n",
    "                  [[13, 14, 15, 16], [17, 18, 19, 20], [21, 22, 23, 24]]])"
   ]
  },
  {
   "cell_type": "code",
   "execution_count": 86,
   "id": "f6e3a6b8-d522-46bd-9db0-a915e0779bd4",
   "metadata": {},
   "outputs": [
    {
     "data": {
      "text/plain": [
       "tensor([[[ 1, 13],\n",
       "         [ 5, 17],\n",
       "         [ 9, 21]],\n",
       "\n",
       "        [[ 2, 14],\n",
       "         [ 6, 18],\n",
       "         [10, 22]],\n",
       "\n",
       "        [[ 3, 15],\n",
       "         [ 7, 19],\n",
       "         [11, 23]],\n",
       "\n",
       "        [[ 4, 16],\n",
       "         [ 8, 20],\n",
       "         [12, 24]]])"
      ]
     },
     "execution_count": 86,
     "metadata": {},
     "output_type": "execute_result"
    }
   ],
   "source": [
    "torch.transpose(B,0,2)"
   ]
  },
  {
   "cell_type": "code",
   "execution_count": 87,
   "id": "558cd2bf-83fc-4e79-b3cf-37efa8bf840d",
   "metadata": {},
   "outputs": [],
   "source": [
    "tensor1 = torch.tensor([1,2,3])\n",
    "tensor2 = torch.tensor([4,5,6])\n",
    "tensor3 = torch.tensor([7,8,9])\n",
    "\n",
    "stacked_tensor = torch.stack([tensor1,tensor2,tensor3])"
   ]
  },
  {
   "cell_type": "code",
   "execution_count": 88,
   "id": "bd7e4ff8-f820-4c63-a1f4-8555675aa410",
   "metadata": {},
   "outputs": [
    {
     "data": {
      "text/plain": [
       "tensor([[1, 2, 3],\n",
       "        [4, 5, 6],\n",
       "        [7, 8, 9]])"
      ]
     },
     "execution_count": 88,
     "metadata": {},
     "output_type": "execute_result"
    }
   ],
   "source": [
    "stacked_tensor"
   ]
  },
  {
   "cell_type": "code",
   "execution_count": 89,
   "id": "254cb414-5dd5-48c0-884a-8e09d4e82536",
   "metadata": {},
   "outputs": [
    {
     "name": "stdout",
     "output_type": "stream",
     "text": [
      "tensor([ 6.9514,  2.3045, -0.0628], grad_fn=<SqueezeBackward4>)\n"
     ]
    }
   ],
   "source": [
    "import torch.nn as nn\n",
    "\n",
    "sample = torch.tensor([10., 10., 10.])\n",
    "linear = nn.Linear(3, 3, bias=False)\n",
    "print(linear(sample))"
   ]
  },
  {
   "cell_type": "code",
   "execution_count": 91,
   "id": "2d01f37a-90b5-49e1-928d-2b950cc1d839",
   "metadata": {},
   "outputs": [
    {
     "name": "stdout",
     "output_type": "stream",
     "text": [
      "tensor([0.0900, 0.2447, 0.6652])\n"
     ]
    }
   ],
   "source": [
    "import torch.nn.functional as F\n",
    "\n",
    "tensor1 = torch.tensor([1.0,2.0,3.0],dtype=torch.float32)\n",
    "\n",
    "softmax_output = F.softmax(tensor1,dim=0)\n",
    "\n",
    "print(softmax_output)"
   ]
  },
  {
   "cell_type": "code",
   "execution_count": 96,
   "id": "d8432c75-0a25-41a7-9ae0-1f0260a06803",
   "metadata": {},
   "outputs": [
    {
     "name": "stdout",
     "output_type": "stream",
     "text": [
      "输入索引: tensor([1, 2, 3, 4])\n",
      "嵌入向量:\n",
      " tensor([[-0.1143, -0.9531, -0.2806],\n",
      "        [-0.4763,  0.0446,  0.2086],\n",
      "        [ 1.4409,  0.5594, -0.8652],\n",
      "        [ 1.0587, -1.0321, -0.2012]], grad_fn=<EmbeddingBackward0>)\n"
     ]
    }
   ],
   "source": [
    "import torch\n",
    "import torch.nn as nn\n",
    "\n",
    "# 定义嵌入层\n",
    "embedding = nn.Embedding(num_embeddings=10, embedding_dim=3)\n",
    "\n",
    "# 输入是一个索引序列\n",
    "input_indices = torch.tensor([1, 2, 3, 4])\n",
    "\n",
    "# 获取嵌入向量\n",
    "embedded_vectors = embedding(input_indices)\n",
    "\n",
    "print(\"输入索引:\", input_indices)\n",
    "print(\"嵌入向量:\\n\", embedded_vectors)\n"
   ]
  },
  {
   "cell_type": "code",
   "execution_count": 101,
   "id": "f3c4f5f3-6ace-48f5-90f0-a6e0b05384b6",
   "metadata": {},
   "outputs": [],
   "source": [
    "a = torch.tensor([[1, 2], [3, 4], [5, 6]])\n",
    "b = torch.tensor([[1, 2, 4], [5, 6, 7]])\n"
   ]
  },
  {
   "cell_type": "code",
   "execution_count": 102,
   "id": "9792e2cc-6930-4ecd-bc75-a0ae13ef5fcb",
   "metadata": {},
   "outputs": [
    {
     "data": {
      "text/plain": [
       "torch.Size([3, 2])"
      ]
     },
     "execution_count": 102,
     "metadata": {},
     "output_type": "execute_result"
    }
   ],
   "source": [
    "a.shape"
   ]
  },
  {
   "cell_type": "code",
   "execution_count": 103,
   "id": "a53ab7b6-8cd8-4c49-91a7-60ff935e29dc",
   "metadata": {},
   "outputs": [
    {
     "data": {
      "text/plain": [
       "torch.Size([2, 3])"
      ]
     },
     "execution_count": 103,
     "metadata": {},
     "output_type": "execute_result"
    }
   ],
   "source": [
    "b.shape"
   ]
  },
  {
   "cell_type": "code",
   "execution_count": 104,
   "id": "d4dcfbfe-7205-45e8-b37b-1e4716691e7c",
   "metadata": {},
   "outputs": [
    {
     "data": {
      "text/plain": [
       "tensor([[11, 14, 18],\n",
       "        [23, 30, 40],\n",
       "        [35, 46, 62]])"
      ]
     },
     "execution_count": 104,
     "metadata": {},
     "output_type": "execute_result"
    }
   ],
   "source": [
    "a @ b"
   ]
  },
  {
   "cell_type": "code",
   "execution_count": 105,
   "id": "6d238910-8ef7-4fb1-96b4-7858b22549f3",
   "metadata": {},
   "outputs": [
    {
     "name": "stdout",
     "output_type": "stream",
     "text": [
      "tensor([[11, 14, 18],\n",
      "        [23, 30, 40],\n",
      "        [35, 46, 62]])\n"
     ]
    }
   ],
   "source": [
    "print(torch.matmul(a, b))"
   ]
  },
  {
   "cell_type": "code",
   "execution_count": 108,
   "id": "53f2f223-ae1d-4b84-aaab-07b721553174",
   "metadata": {},
   "outputs": [
    {
     "name": "stdout",
     "output_type": "stream",
     "text": [
      "378436\n",
      "The Project Gutenberg eBook of Hollyhock House: A Story for Girls\n",
      "\n",
      "This ebook is for the use of anyone anywhere in the United States and\n",
      "most other parts of the world at no cost and with almost no res\n"
     ]
    }
   ],
   "source": [
    "with open('ebook_free.text', 'r', encoding='UTF-8') as f:\n",
    "    text = f.read()\n",
    "print(len(text))\n",
    "print(text[:200])  # 打印前200个字符\n",
    "\n"
   ]
  },
  {
   "cell_type": "code",
   "execution_count": 109,
   "id": "1141893f-8589-4dd6-a250-2028e97a0d00",
   "metadata": {},
   "outputs": [
    {
     "name": "stdout",
     "output_type": "stream",
     "text": [
      "96\n",
      "['\\n', ' ', '!', '#', '$', '%', '&', '(', ')', '*', ',', '-', '.', '/', '0', '1', '2', '3', '4', '5', '6', '7', '8', '9', ':', ';', '?', 'A', 'B', 'C', 'D', 'E', 'F', 'G', 'H', 'I', 'J', 'K', 'L', 'M', 'N', 'O', 'P', 'Q', 'R', 'S', 'T', 'U', 'V', 'W', 'X', 'Y', 'Z', '[', ']', '_', 'a', 'b', 'c', 'd', 'e', 'f', 'g', 'h', 'i', 'j', 'k', 'l', 'm', 'n', 'o', 'p', 'q', 'r', 's', 't', 'u', 'v', 'w', 'x', 'y', 'z', 'è', 'é', 'ê', 'ï', 'ô', 'ö', 'ü', '—', '‘', '’', '“', '”', '•', '™']\n"
     ]
    }
   ],
   "source": [
    "\n",
    "chars = sorted(set(text))\n",
    "print(len(chars))\n",
    "print(chars)\n",
    "vocabulary_size = len(chars)  # 词汇表大小\n"
   ]
  },
  {
   "cell_type": "code",
   "execution_count": 110,
   "id": "2e984ea2-763e-46f8-afe8-4dc6d8199dc4",
   "metadata": {},
   "outputs": [
    {
     "name": "stdout",
     "output_type": "stream",
     "text": [
      "[63, 60, 67, 67, 70]\n",
      "hello\n",
      "tensor([46, 63, 60,  1, 42, 73, 70, 65, 60, 58, 75,  1, 33, 76, 75, 60, 69, 57,\n",
      "        60, 73, 62,  1, 60, 28, 70, 70, 66,  1, 70, 61,  1, 34, 70, 67, 67, 80,\n",
      "        63, 70, 58, 66,  1, 34, 70, 76, 74, 60, 24,  1, 27,  1, 45, 75, 70, 73,\n",
      "        80,  1, 61, 70, 73,  1, 33, 64, 73, 67, 74,  0,  0, 46, 63, 64, 74,  1,\n",
      "        60, 57, 70, 70, 66,  1, 64, 74,  1, 61, 70, 73,  1, 75, 63, 60,  1, 76,\n",
      "        74, 60,  1, 70, 61,  1, 56, 69, 80, 70])\n"
     ]
    }
   ],
   "source": [
    "\n",
    "string_to_int = {ch: i for i, ch in enumerate(chars)}\n",
    "int_to_string = {i: ch for i, ch in enumerate(chars)}\n",
    "\n",
    "encode = lambda s: [string_to_int[c] for c in s]\n",
    "decode = lambda l: \"\".join([int_to_string[i] for i in l])\n",
    "\n",
    "print(encode(\"hello\"))\n",
    "print(decode([63, 60, 67, 67, 70]))\n",
    "\n",
    "# 使用torch处理数据\n",
    "data = torch.tensor(encode(text), dtype=torch.long)\n",
    "print(data[:100])\n",
    "\n",
    "# 分成训练集 验证集\n",
    "n = int(0.8 * len(data))\n",
    "train_data = data[:n]\n",
    "val_data = data[n:]\n"
   ]
  },
  {
   "cell_type": "code",
   "execution_count": 112,
   "id": "a633a9bc-0d82-4179-9b3c-c846898c1b23",
   "metadata": {},
   "outputs": [],
   "source": [
    "\n",
    "# Block Size（块大小）是指在处理文本时，模型一次读取或生成的最大文本长度。\n",
    "block_size = 8\n",
    "# Batch Size（批大小）是指在一次训练迭代中，模型同时处理的样本数。\n",
    "batch_size = 4\n",
    "\n"
   ]
  },
  {
   "cell_type": "code",
   "execution_count": null,
   "id": "0c6293e2-10d4-40c2-9519-9ea5018c0bc3",
   "metadata": {},
   "outputs": [],
   "source": []
  },
  {
   "cell_type": "code",
   "execution_count": 113,
   "id": "dac2cad2-c963-4069-9188-adcc91a4cfa6",
   "metadata": {},
   "outputs": [
    {
     "name": "stdout",
     "output_type": "stream",
     "text": [
      "tensor([ 23453, 123244,  24702, 186881])\n",
      "inputs:\n",
      "tensor([[12,  0,  0, 92, 51, 60, 74, 10],\n",
      "        [ 1, 57, 60,  1, 70, 69, 67, 80],\n",
      "        [ 1, 62, 64, 73, 67, 74, 12,  0],\n",
      "        [70, 70,  1, 68, 70, 59, 60, 74]])\n",
      "targets:\n",
      "tensor([[ 0,  0, 92, 51, 60, 74, 10,  1],\n",
      "        [57, 60,  1, 70, 69, 67, 80,  1],\n",
      "        [62, 64, 73, 67, 74, 12,  0,  0],\n",
      "        [70,  1, 68, 70, 59, 60, 74, 75]])\n"
     ]
    }
   ],
   "source": [
    "\n",
    "def get_batch(split):\n",
    "    data = train_data if split == 'train' else val_data\n",
    "    ix = torch.randint(len(data) - block_size, (batch_size,))\n",
    "    print(ix)\n",
    "    x = torch.stack([data[i:i + block_size] for i in ix])\n",
    "    y = torch.stack([data[i + 1:i + block_size + 1] for i in ix])\n",
    "    return x, y\n",
    "\n",
    "\n",
    "x, y = get_batch('train')\n",
    "print('inputs:')\n",
    "print(x)\n",
    "print('targets:')\n",
    "print(y)"
   ]
  },
  {
   "cell_type": "code",
   "execution_count": 114,
   "id": "5e095861-7905-4295-9485-f305540b77e6",
   "metadata": {},
   "outputs": [
    {
     "name": "stdout",
     "output_type": "stream",
     "text": [
      "torch.Size([2, 3, 5])\n"
     ]
    }
   ],
   "source": [
    "a = torch.rand(2,3,5)\n",
    "x,y,z = a.shape\n",
    "a = a.view(x,y,z)\n",
    "print(a.shape)"
   ]
  },
  {
   "cell_type": "code",
   "execution_count": 115,
   "id": "a191cd8e-de09-441a-8379-68ba18941612",
   "metadata": {},
   "outputs": [
    {
     "data": {
      "text/plain": [
       "tensor([[[0.2872, 0.6476, 0.0627, 0.6736, 0.9227],\n",
       "         [0.6924, 0.4511, 0.6840, 0.8489, 0.9387],\n",
       "         [0.0170, 0.4308, 0.1955, 0.3529, 0.5058]],\n",
       "\n",
       "        [[0.0602, 0.3831, 0.0138, 0.2539, 0.6571],\n",
       "         [0.7560, 0.3171, 0.9134, 0.1071, 0.0292],\n",
       "         [0.0489, 0.2914, 0.6241, 0.0763, 0.4940]]])"
      ]
     },
     "execution_count": 115,
     "metadata": {},
     "output_type": "execute_result"
    }
   ],
   "source": [
    "a"
   ]
  },
  {
   "cell_type": "code",
   "execution_count": 116,
   "id": "2a354efd-edfc-43c4-9d8e-9a1f72bc3cb4",
   "metadata": {},
   "outputs": [
    {
     "data": {
      "text/plain": [
       "96"
      ]
     },
     "execution_count": 116,
     "metadata": {},
     "output_type": "execute_result"
    }
   ],
   "source": [
    "vocabulary_size"
   ]
  },
  {
   "cell_type": "code",
   "execution_count": 117,
   "id": "262292b4-3940-41a0-9029-ad92f4206e67",
   "metadata": {},
   "outputs": [],
   "source": [
    "token_embedding_table = nn.Embedding(vocabulary_size, vocabulary_size)"
   ]
  },
  {
   "cell_type": "code",
   "execution_count": 118,
   "id": "b31775e8-625d-4516-a9c8-f6b5683b11e6",
   "metadata": {},
   "outputs": [
    {
     "data": {
      "text/plain": [
       "Embedding(96, 96)"
      ]
     },
     "execution_count": 118,
     "metadata": {},
     "output_type": "execute_result"
    }
   ],
   "source": [
    "token_embedding_table"
   ]
  },
  {
   "cell_type": "code",
   "execution_count": 119,
   "id": "070633c7-4887-43fe-8075-2525978f4c2b",
   "metadata": {},
   "outputs": [],
   "source": [
    "context = torch.zeros((1, 1), dtype=torch.long, device=device)"
   ]
  },
  {
   "cell_type": "code",
   "execution_count": 120,
   "id": "9e9cbfe8-3be5-4d64-b4e5-711ac9e475c5",
   "metadata": {},
   "outputs": [
    {
     "data": {
      "text/plain": [
       "tensor([[0]])"
      ]
     },
     "execution_count": 120,
     "metadata": {},
     "output_type": "execute_result"
    }
   ],
   "source": [
    "context"
   ]
  },
  {
   "cell_type": "code",
   "execution_count": 123,
   "id": "5808e68b-c8d0-4926-a251-60bdfd8b342f",
   "metadata": {},
   "outputs": [],
   "source": [
    "logits = token_embedding_table(context)"
   ]
  },
  {
   "cell_type": "code",
   "execution_count": 124,
   "id": "a3d60ae4-54b1-4fcc-b01a-116cc2946e00",
   "metadata": {},
   "outputs": [
    {
     "data": {
      "text/plain": [
       "torch.Size([1, 1, 96])"
      ]
     },
     "execution_count": 124,
     "metadata": {},
     "output_type": "execute_result"
    }
   ],
   "source": [
    "logits.shape"
   ]
  },
  {
   "cell_type": "code",
   "execution_count": 125,
   "id": "76f742d9-ae11-439b-8d5a-95229a551034",
   "metadata": {},
   "outputs": [],
   "source": [
    "B, T, C = logits.shape"
   ]
  },
  {
   "cell_type": "code",
   "execution_count": 126,
   "id": "26a94302-e4f0-40f5-80e7-70326c746995",
   "metadata": {},
   "outputs": [],
   "source": [
    "logits = logits.view(B * T, C)"
   ]
  },
  {
   "cell_type": "code",
   "execution_count": 127,
   "id": "8667b91d-af35-470f-864d-da8bf674dca0",
   "metadata": {},
   "outputs": [
    {
     "data": {
      "text/plain": [
       "tensor([[ 1.2129e+00, -1.8040e+00, -1.0681e+00, -1.8593e+00, -1.7124e-01,\n",
       "          3.1413e-01,  1.7678e+00, -1.1829e+00,  4.9408e-01, -3.5662e-01,\n",
       "          1.3281e-01,  7.3895e-01,  8.9466e-01, -3.2394e-01, -1.4077e+00,\n",
       "         -8.2828e-02, -4.9411e-01, -1.0272e+00,  8.6899e-01, -1.6512e+00,\n",
       "          5.9302e-01, -2.3484e+00,  9.1464e-01, -9.5414e-01,  1.4977e+00,\n",
       "          3.8915e-01,  1.4248e-01,  8.0909e-01, -2.4848e-01, -1.7961e+00,\n",
       "         -6.6514e-01, -5.6737e-01,  8.8064e-01, -3.9170e-01, -1.8491e+00,\n",
       "         -8.6434e-01,  1.1892e+00, -4.2454e-01,  1.0057e+00, -1.7097e+00,\n",
       "         -1.4949e+00,  1.5845e+00,  7.6576e-01,  1.6731e+00, -1.2468e+00,\n",
       "          2.9994e-01,  1.7513e+00, -2.0036e-01,  2.0608e+00,  1.0202e-01,\n",
       "          7.8385e-01, -5.1874e-01,  3.7423e-01, -1.0148e+00, -5.7158e-01,\n",
       "          6.1547e-01, -1.5781e-01,  5.5050e-01,  8.9360e-01, -1.0568e+00,\n",
       "         -7.6476e-01,  1.1765e-01,  1.2795e+00,  2.8652e+00, -3.9811e-01,\n",
       "         -1.4116e-03, -5.3879e-01,  9.4069e-01, -1.2970e+00,  1.1010e+00,\n",
       "          1.3999e+00,  3.6914e-01,  1.7063e-01, -1.8365e+00,  1.3637e+00,\n",
       "          6.1786e-01, -2.6525e+00, -8.4620e-01, -9.0068e-01,  2.7087e-01,\n",
       "          4.0917e-01, -6.8258e-03, -8.1218e-01,  1.2255e+00,  1.2635e+00,\n",
       "         -5.4033e-01,  2.6220e-01,  4.8383e-01, -5.7589e-01,  3.3667e-01,\n",
       "         -7.1520e-02,  6.4263e-01,  5.2598e-01, -1.9209e-01, -8.5992e-01,\n",
       "         -3.7401e-02]], grad_fn=<ViewBackward0>)"
      ]
     },
     "execution_count": 127,
     "metadata": {},
     "output_type": "execute_result"
    }
   ],
   "source": [
    "logits"
   ]
  },
  {
   "cell_type": "code",
   "execution_count": 128,
   "id": "5a3e2432-ef27-4f81-a524-67e743348060",
   "metadata": {},
   "outputs": [
    {
     "data": {
      "text/plain": [
       "torch.Size([1, 96])"
      ]
     },
     "execution_count": 128,
     "metadata": {},
     "output_type": "execute_result"
    }
   ],
   "source": [
    "logits.shape"
   ]
  },
  {
   "cell_type": "code",
   "execution_count": 130,
   "id": "4a6fd24a-f9c1-4fac-b559-7be7f0edf86d",
   "metadata": {},
   "outputs": [
    {
     "name": "stdout",
     "output_type": "stream",
     "text": [
      "tensor([189937,  44352, 197806, 127114])\n"
     ]
    }
   ],
   "source": [
    " xb, yb = get_batch('train')"
   ]
  },
  {
   "cell_type": "code",
   "execution_count": 131,
   "id": "13bfd81c-0bca-4079-a430-f51372523cfa",
   "metadata": {},
   "outputs": [
    {
     "data": {
      "text/plain": [
       "tensor([[64, 69, 60, 58, 67, 56, 59,  1],\n",
       "        [59, 60, 58, 67, 56, 73, 60, 59],\n",
       "        [59, 60, 73, 10,  1, 39, 56, 73],\n",
       "        [59,  0, 63, 56, 77, 60,  1, 67]])"
      ]
     },
     "execution_count": 131,
     "metadata": {},
     "output_type": "execute_result"
    }
   ],
   "source": [
    "xb"
   ]
  },
  {
   "cell_type": "code",
   "execution_count": 132,
   "id": "633e688a-063f-48ed-89e8-6b852430a787",
   "metadata": {},
   "outputs": [
    {
     "data": {
      "text/plain": [
       "tensor([[69, 60, 58, 67, 56, 59,  1, 74],\n",
       "        [60, 58, 67, 56, 73, 60, 59,  1],\n",
       "        [60, 73, 10,  1, 39, 56, 73, 80],\n",
       "        [ 0, 63, 56, 77, 60,  1, 67, 64]])"
      ]
     },
     "execution_count": 132,
     "metadata": {},
     "output_type": "execute_result"
    }
   ],
   "source": [
    "yb"
   ]
  },
  {
   "cell_type": "code",
   "execution_count": 133,
   "id": "1e4c8d33-a774-4bae-871c-f4f735006936",
   "metadata": {},
   "outputs": [],
   "source": [
    "x = token_embedding_table(xb)"
   ]
  },
  {
   "cell_type": "code",
   "execution_count": 135,
   "id": "15d504f2-1025-4311-8a3d-4c07044e5042",
   "metadata": {},
   "outputs": [
    {
     "data": {
      "text/plain": [
       "torch.Size([4, 8, 96])"
      ]
     },
     "execution_count": 135,
     "metadata": {},
     "output_type": "execute_result"
    }
   ],
   "source": [
    "x.shape"
   ]
  },
  {
   "cell_type": "code",
   "execution_count": 136,
   "id": "3e6bd046-96fd-4482-a9cc-50facada8045",
   "metadata": {},
   "outputs": [],
   "source": [
    "y = token_embedding_table(xb)"
   ]
  },
  {
   "cell_type": "code",
   "execution_count": 137,
   "id": "d78d1023-c1c2-4432-9410-e86c9d6101b2",
   "metadata": {},
   "outputs": [
    {
     "data": {
      "text/plain": [
       "torch.Size([4, 8, 96])"
      ]
     },
     "execution_count": 137,
     "metadata": {},
     "output_type": "execute_result"
    }
   ],
   "source": [
    "y.shape"
   ]
  },
  {
   "cell_type": "code",
   "execution_count": 138,
   "id": "df5ad387-2300-4529-a16c-cdeefacee29d",
   "metadata": {},
   "outputs": [],
   "source": [
    "B, T, C = x.shape"
   ]
  },
  {
   "cell_type": "code",
   "execution_count": 139,
   "id": "4ec4cf2c-e6b9-4ad9-945d-7b456fae7fe4",
   "metadata": {},
   "outputs": [],
   "source": [
    "x = x.view(B * T, C)"
   ]
  },
  {
   "cell_type": "code",
   "execution_count": 141,
   "id": "348fadf7-32f7-4315-a921-58df8d1d0a7a",
   "metadata": {},
   "outputs": [
    {
     "data": {
      "text/plain": [
       "torch.Size([32, 96])"
      ]
     },
     "execution_count": 141,
     "metadata": {},
     "output_type": "execute_result"
    }
   ],
   "source": [
    "x.shape"
   ]
  },
  {
   "cell_type": "code",
   "execution_count": 143,
   "id": "95bf265e-3af1-458a-93dc-3646ea6ee783",
   "metadata": {},
   "outputs": [],
   "source": [
    "y = yb.view(B * T)"
   ]
  },
  {
   "cell_type": "code",
   "execution_count": 144,
   "id": "337ae614-e9f7-466b-898e-207023a05639",
   "metadata": {},
   "outputs": [
    {
     "data": {
      "text/plain": [
       "torch.Size([32])"
      ]
     },
     "execution_count": 144,
     "metadata": {},
     "output_type": "execute_result"
    }
   ],
   "source": [
    "y.shape"
   ]
  },
  {
   "cell_type": "code",
   "execution_count": 145,
   "id": "ba87b88b-4e13-4037-8cf3-0e8927835d8a",
   "metadata": {},
   "outputs": [
    {
     "data": {
      "text/plain": [
       "tensor(5.0241, grad_fn=<NllLossBackward0>)"
      ]
     },
     "execution_count": 145,
     "metadata": {},
     "output_type": "execute_result"
    }
   ],
   "source": [
    "F.cross_entropy(x, y)"
   ]
  },
  {
   "cell_type": "code",
   "execution_count": null,
   "id": "9c71ca4a-debf-428f-9744-58a40fb074e2",
   "metadata": {},
   "outputs": [],
   "source": []
  },
  {
   "cell_type": "code",
   "execution_count": null,
   "id": "a9508693-6811-4b5b-9eae-27aeb04127d9",
   "metadata": {},
   "outputs": [],
   "source": []
  }
 ],
 "metadata": {
  "kernelspec": {
   "display_name": "py310",
   "language": "python",
   "name": "py310"
  },
  "language_info": {
   "codemirror_mode": {
    "name": "ipython",
    "version": 3
   },
   "file_extension": ".py",
   "mimetype": "text/x-python",
   "name": "python",
   "nbconvert_exporter": "python",
   "pygments_lexer": "ipython3",
   "version": "3.10.14"
  }
 },
 "nbformat": 4,
 "nbformat_minor": 5
}
